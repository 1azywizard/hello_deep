{
  "nbformat": 4,
  "nbformat_minor": 0,
  "metadata": {
    "colab": {
      "provenance": [],
      "authorship_tag": "ABX9TyNdk1jkcgKNDUpn+X/2i5pD",
      "include_colab_link": true
    },
    "kernelspec": {
      "name": "python3",
      "display_name": "Python 3"
    },
    "language_info": {
      "name": "python"
    }
  },
  "cells": [
    {
      "cell_type": "markdown",
      "metadata": {
        "id": "view-in-github",
        "colab_type": "text"
      },
      "source": [
        "<a href=\"https://colab.research.google.com/github/1azywizard/hello_deep/blob/main/hello_deep.ipynb\" target=\"_parent\"><img src=\"https://colab.research.google.com/assets/colab-badge.svg\" alt=\"Open In Colab\"/></a>"
      ]
    },
    {
      "cell_type": "code",
      "execution_count": null,
      "metadata": {
        "colab": {
          "base_uri": "https://localhost:8080/"
        },
        "id": "dFRBLijMuw5f",
        "outputId": "89995cea-a517-485b-e5b6-1d013f00ae27"
      },
      "outputs": [
        {
          "output_type": "stream",
          "name": "stdout",
          "text": [
            "/content/drive\n",
            "Mounted at /content/drive\n"
          ]
        }
      ],
      "source": [
        "# Colab에 구글 드라이브 연동\n",
        "from google.colab import drive\n",
        "from os.path import join\n",
        "ROOT = \"/content/drive\"\n",
        "print(ROOT)\n",
        "drive.mount(ROOT)\n",
        "# 실행 후 구글 계정에서 코랩 접근 허용 승인"
      ]
    },
    {
      "cell_type": "code",
      "source": [
        "# colab에 깃허브 연동시키기 참고 자료 https://brunch.co.kr/@jayden-factory/16\n",
        "!git clone https://github.com/1azywizard/hello_deep.git"
      ],
      "metadata": {
        "colab": {
          "base_uri": "https://localhost:8080/"
        },
        "id": "wBTgzFhK1H5E",
        "outputId": "4808383a-625f-41de-d88c-107bb94b84e8"
      },
      "execution_count": null,
      "outputs": [
        {
          "output_type": "stream",
          "name": "stdout",
          "text": [
            "Cloning into 'hello_deep'...\n",
            "remote: Enumerating objects: 3, done.\u001b[K\n",
            "remote: Counting objects: 100% (3/3), done.\u001b[K\n",
            "remote: Compressing objects: 100% (2/2), done.\u001b[K\n",
            "remote: Total 3 (delta 0), reused 0 (delta 0), pack-reused 0\u001b[K\n",
            "Unpacking objects: 100% (3/3), done.\n"
          ]
        }
      ]
    },
    {
      "cell_type": "code",
      "source": [
        "ls -ltr"
      ],
      "metadata": {
        "colab": {
          "base_uri": "https://localhost:8080/"
        },
        "id": "5Ol4O8LF2Xrg",
        "outputId": "3234968f-f911-43ee-a678-2e7ff1dd8410"
      },
      "execution_count": null,
      "outputs": [
        {
          "output_type": "stream",
          "name": "stdout",
          "text": [
            "total 12\n",
            "drwxr-xr-x 1 root root 4096 Dec 20 20:19 \u001b[0m\u001b[01;34msample_data\u001b[0m/\n",
            "drwx------ 5 root root 4096 Dec 31 10:58 \u001b[01;34mdrive\u001b[0m/\n",
            "drwxr-xr-x 3 root root 4096 Dec 31 11:03 \u001b[01;34mhello_deep\u001b[0m/\n"
          ]
        }
      ]
    },
    {
      "cell_type": "code",
      "source": [
        "# github에서 access token 등록 https://github.com/1azywizard/hello_deep.git\n",
        "\n",
        "from os.path import join\n",
        "\n",
        "# Path to your project on Google Drive\n",
        "MY_GOOGLE_DRIVE_PATH = '/content/hello_deep'\n",
        "# Replace with your Github username\n",
        "GIT_USERNAME = \"1azywizard\"\n",
        "#\n",
        "from os.path import join  \n",
        "\n",
        "# path to your project on Google Drive\n",
        "MY_GOOGLE_DRIVE_PATH = '/content/drive/MyDrive/Github/amazon-fashion-data-description-generation' \n",
        "# replace with your Github username \n",
        "GIT_USERNAME = \"inistory\" \n",
        "# definitely replace with your\n",
        "GIT_TOKEN = \"[복붙한 인증코드 여기에]\"  \n",
        "# Replace with your github repository in this case we want \n",
        "# to clone deep-learning-v2-pytorch repository\n",
        "GIT_REPOSITORY = \"amazon-fashion-data-description-generation\" \n",
        "\n",
        "PROJECT_PATH = join(ROOT, MY_GOOGLE_DRIVE_PATH)\n",
        "\n",
        "# It's good to print out the value if you are not sure \n",
        "print(\"PROJECT_PATH: \", PROJECT_PATH)   \n",
        "\n",
        "# In case we haven't created the folder already; we will create a folder in the project path \n",
        "!mkdir \"{PROJECT_PATH}\"    \n",
        "\n",
        "#GIT_PATH = \"https://{GIT_TOKEN}@github.com/{GIT_USERNAME}/{GIT_REPOSITORY}.git\" this return 400 Bad Request for me\n",
        "GIT_PATH = \"https://\" + GIT_TOKEN + \"@github.com/\" + GIT_USERNAME + \"/\" + GIT_REPOSITORY + \".git\"\n",
        "print(\"GIT_PATH: \", GIT_PATH)\n"
      ],
      "metadata": {
        "id": "9VeodkyN5QS2"
      },
      "execution_count": null,
      "outputs": []
    }
  ]
}